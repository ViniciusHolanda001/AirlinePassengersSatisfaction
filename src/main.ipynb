{
 "cells": [
  {
   "cell_type": "markdown",
   "metadata": {},
   "source": [
    "# Airline Passenger Satisfatcion Classification"
   ]
  },
  {
   "cell_type": "markdown",
   "metadata": {},
   "source": [
    "### This model tries to understand the services of an aviation company through a satisfaction passenger research "
   ]
  },
  {
   "cell_type": "markdown",
   "metadata": {},
   "source": [
    "# Libraries"
   ]
  },
  {
   "cell_type": "code",
   "execution_count": null,
   "metadata": {},
   "outputs": [],
   "source": [
    "import pandas as pd\n",
    "import seaborn as sns\n",
    "import matplotlib.pyplot as plt\n",
    "import os\n",
    "from pathlib import Path\n",
    "import numpy as np"
   ]
  },
  {
   "cell_type": "markdown",
   "metadata": {},
   "source": [
    "# Pandas Set Options"
   ]
  },
  {
   "cell_type": "code",
   "execution_count": null,
   "metadata": {},
   "outputs": [],
   "source": [
    "pd.set_option('display.max_rows', None)\n",
    "pd.set_option('display.max_columns', None)"
   ]
  },
  {
   "cell_type": "markdown",
   "metadata": {},
   "source": [
    "# 1. Upload Datasets"
   ]
  },
  {
   "cell_type": "code",
   "execution_count": null,
   "metadata": {},
   "outputs": [],
   "source": [
    "df_test = pd.read_csv(os.path.join(Path(os.getcwd()).parents[0], 'data', 'test.csv'))\n",
    "df_train = pd.read_csv(os.path.join(Path(os.getcwd()).parents[0], 'data', 'train.csv'))"
   ]
  },
  {
   "cell_type": "code",
   "execution_count": null,
   "metadata": {},
   "outputs": [],
   "source": [
    "fig, ax = plt.subplots()\n",
    "\n",
    "test = ax.bar('test_rows', df_test.shape[0], label='Test')\n",
    "test_col = ax.bar('test_col', df_test.shape[1], label='Test_col')\n",
    "\n",
    "train = ax.bar('train_rows', df_train.shape[0], label='Train')\n",
    "train_col = ax.bar('train_col', df_train.shape[1], label='Train_col')\n",
    "\n",
    "ax.bar_label(test, label_type='edge')\n",
    "ax.bar_label(train, label_type='edge')\n",
    "\n",
    "ax.bar_label(test_col, label_type='edge')\n",
    "ax.bar_label(train_col, label_type='edge')\n",
    "plt.ylim(0, 150000)\n",
    "plt.legend()\n",
    "\n",
    "plt.show()"
   ]
  },
  {
   "cell_type": "markdown",
   "metadata": {},
   "source": [
    "## 1.1 Concatenating the Datasets"
   ]
  },
  {
   "cell_type": "code",
   "execution_count": null,
   "metadata": {},
   "outputs": [],
   "source": [
    "df_concat = pd.concat([df_train, df_test]).reset_index()"
   ]
  },
  {
   "cell_type": "code",
   "execution_count": null,
   "metadata": {},
   "outputs": [],
   "source": [
    "df_concat.shape"
   ]
  },
  {
   "cell_type": "markdown",
   "metadata": {},
   "source": [
    "## 1.2 Renaming columns"
   ]
  },
  {
   "cell_type": "code",
   "execution_count": null,
   "metadata": {},
   "outputs": [],
   "source": [
    "df_rename = df_concat.copy()"
   ]
  },
  {
   "cell_type": "code",
   "execution_count": null,
   "metadata": {},
   "outputs": [],
   "source": [
    "df_concat.info()"
   ]
  },
  {
   "cell_type": "code",
   "execution_count": null,
   "metadata": {},
   "outputs": [],
   "source": [
    "df_rename.columns"
   ]
  },
  {
   "cell_type": "code",
   "execution_count": null,
   "metadata": {},
   "outputs": [],
   "source": [
    "new_columns = [\n",
    "    new_name.replace(' ', '_').lower()\n",
    "    for new_name in df_rename.columns\n",
    "    ]"
   ]
  },
  {
   "cell_type": "code",
   "execution_count": null,
   "metadata": {},
   "outputs": [],
   "source": [
    "df_rename.columns = new_columns"
   ]
  },
  {
   "cell_type": "markdown",
   "metadata": {},
   "source": [
    "### 1.2.1 Initial data cleaning"
   ]
  },
  {
   "cell_type": "code",
   "execution_count": null,
   "metadata": {},
   "outputs": [],
   "source": [
    "len(df_rename['id'].unique())"
   ]
  },
  {
   "cell_type": "code",
   "execution_count": null,
   "metadata": {},
   "outputs": [],
   "source": [
    "drop_cols = ['index', 'unnamed:_0', 'id']\n",
    "df_rename.drop(drop_cols, axis = 1, inplace = True)"
   ]
  },
  {
   "cell_type": "markdown",
   "metadata": {},
   "source": [
    "#### A: There's no duplicate ids. So, there's no reason to maintain this attribute"
   ]
  },
  {
   "cell_type": "markdown",
   "metadata": {},
   "source": [
    "# 2. Data exploratory analysis"
   ]
  },
  {
   "cell_type": "code",
   "execution_count": 50,
   "metadata": {},
   "outputs": [],
   "source": [
    "df_exploratory = df_rename.copy()"
   ]
  },
  {
   "cell_type": "markdown",
   "metadata": {},
   "source": [
    "#### Q.1: Is any null value?"
   ]
  },
  {
   "cell_type": "code",
   "execution_count": 81,
   "metadata": {},
   "outputs": [
    {
     "data": {
      "text/plain": [
       "Index(['arrival_delay_in_minutes'], dtype='object')"
      ]
     },
     "execution_count": 81,
     "metadata": {},
     "output_type": "execute_result"
    }
   ],
   "source": [
    "df_exploratory.columns[df_exploratory.isnull().any()]"
   ]
  },
  {
   "cell_type": "code",
   "execution_count": 82,
   "metadata": {},
   "outputs": [
    {
     "data": {
      "text/plain": [
       "gender                                 0\n",
       "customer_type                          0\n",
       "age                                    0\n",
       "type_of_travel                         0\n",
       "class                                  0\n",
       "flight_distance                        0\n",
       "inflight_wifi_service                  0\n",
       "departure/arrival_time_convenient      0\n",
       "ease_of_online_booking                 0\n",
       "gate_location                          0\n",
       "food_and_drink                         0\n",
       "online_boarding                        0\n",
       "seat_comfort                           0\n",
       "inflight_entertainment                 0\n",
       "on-board_service                       0\n",
       "leg_room_service                       0\n",
       "baggage_handling                       0\n",
       "checkin_service                        0\n",
       "inflight_service                       0\n",
       "cleanliness                            0\n",
       "departure_delay_in_minutes             0\n",
       "arrival_delay_in_minutes             393\n",
       "satisfaction                           0\n",
       "dtype: int64"
      ]
     },
     "execution_count": 82,
     "metadata": {},
     "output_type": "execute_result"
    }
   ],
   "source": [
    "df_exploratory.isnull().sum()"
   ]
  },
  {
   "cell_type": "markdown",
   "metadata": {},
   "source": [
    "#### A.1: Only one attribute have 393 null objects. That represents 0.3% of the data."
   ]
  },
  {
   "cell_type": "code",
   "execution_count": null,
   "metadata": {},
   "outputs": [],
   "source": [
    "# Descriptive Data Analysis\n",
    "df_exploratory.info()"
   ]
  },
  {
   "cell_type": "code",
   "execution_count": null,
   "metadata": {},
   "outputs": [],
   "source": [
    "# Count of dtypes\n",
    "df_exploratory.dtypes.value_counts()"
   ]
  },
  {
   "cell_type": "code",
   "execution_count": 101,
   "metadata": {},
   "outputs": [
    {
     "data": {
      "text/html": [
       "<div>\n",
       "<style scoped>\n",
       "    .dataframe tbody tr th:only-of-type {\n",
       "        vertical-align: middle;\n",
       "    }\n",
       "\n",
       "    .dataframe tbody tr th {\n",
       "        vertical-align: top;\n",
       "    }\n",
       "\n",
       "    .dataframe thead th {\n",
       "        text-align: right;\n",
       "    }\n",
       "</style>\n",
       "<table border=\"1\" class=\"dataframe\">\n",
       "  <thead>\n",
       "    <tr style=\"text-align: right;\">\n",
       "      <th></th>\n",
       "      <th>gender</th>\n",
       "      <th>customer_type</th>\n",
       "      <th>age</th>\n",
       "      <th>type_of_travel</th>\n",
       "      <th>class</th>\n",
       "      <th>flight_distance</th>\n",
       "      <th>inflight_wifi_service</th>\n",
       "      <th>departure/arrival_time_convenient</th>\n",
       "      <th>ease_of_online_booking</th>\n",
       "      <th>gate_location</th>\n",
       "      <th>food_and_drink</th>\n",
       "      <th>online_boarding</th>\n",
       "      <th>seat_comfort</th>\n",
       "      <th>inflight_entertainment</th>\n",
       "      <th>on-board_service</th>\n",
       "      <th>leg_room_service</th>\n",
       "      <th>baggage_handling</th>\n",
       "      <th>checkin_service</th>\n",
       "      <th>inflight_service</th>\n",
       "      <th>cleanliness</th>\n",
       "      <th>departure_delay_in_minutes</th>\n",
       "      <th>arrival_delay_in_minutes</th>\n",
       "      <th>satisfaction</th>\n",
       "    </tr>\n",
       "  </thead>\n",
       "  <tbody>\n",
       "    <tr>\n",
       "      <th>103044</th>\n",
       "      <td>Male</td>\n",
       "      <td>Loyal Customer</td>\n",
       "      <td>66</td>\n",
       "      <td>Personal Travel</td>\n",
       "      <td>Eco</td>\n",
       "      <td>1678</td>\n",
       "      <td>3</td>\n",
       "      <td>2</td>\n",
       "      <td>3</td>\n",
       "      <td>2</td>\n",
       "      <td>4</td>\n",
       "      <td>3</td>\n",
       "      <td>4</td>\n",
       "      <td>4</td>\n",
       "      <td>4</td>\n",
       "      <td>3</td>\n",
       "      <td>2</td>\n",
       "      <td>3</td>\n",
       "      <td>2</td>\n",
       "      <td>4</td>\n",
       "      <td>0</td>\n",
       "      <td>0.0</td>\n",
       "      <td>neutral or dissatisfied</td>\n",
       "    </tr>\n",
       "    <tr>\n",
       "      <th>43282</th>\n",
       "      <td>Female</td>\n",
       "      <td>Loyal Customer</td>\n",
       "      <td>38</td>\n",
       "      <td>Business travel</td>\n",
       "      <td>Business</td>\n",
       "      <td>954</td>\n",
       "      <td>2</td>\n",
       "      <td>2</td>\n",
       "      <td>2</td>\n",
       "      <td>2</td>\n",
       "      <td>2</td>\n",
       "      <td>3</td>\n",
       "      <td>1</td>\n",
       "      <td>4</td>\n",
       "      <td>4</td>\n",
       "      <td>4</td>\n",
       "      <td>4</td>\n",
       "      <td>2</td>\n",
       "      <td>4</td>\n",
       "      <td>4</td>\n",
       "      <td>3</td>\n",
       "      <td>0.0</td>\n",
       "      <td>satisfied</td>\n",
       "    </tr>\n",
       "    <tr>\n",
       "      <th>65543</th>\n",
       "      <td>Female</td>\n",
       "      <td>Loyal Customer</td>\n",
       "      <td>38</td>\n",
       "      <td>Business travel</td>\n",
       "      <td>Eco</td>\n",
       "      <td>189</td>\n",
       "      <td>2</td>\n",
       "      <td>1</td>\n",
       "      <td>1</td>\n",
       "      <td>1</td>\n",
       "      <td>2</td>\n",
       "      <td>2</td>\n",
       "      <td>2</td>\n",
       "      <td>2</td>\n",
       "      <td>1</td>\n",
       "      <td>2</td>\n",
       "      <td>4</td>\n",
       "      <td>1</td>\n",
       "      <td>4</td>\n",
       "      <td>2</td>\n",
       "      <td>0</td>\n",
       "      <td>0.0</td>\n",
       "      <td>neutral or dissatisfied</td>\n",
       "    </tr>\n",
       "    <tr>\n",
       "      <th>65083</th>\n",
       "      <td>Female</td>\n",
       "      <td>Loyal Customer</td>\n",
       "      <td>32</td>\n",
       "      <td>Personal Travel</td>\n",
       "      <td>Eco</td>\n",
       "      <td>175</td>\n",
       "      <td>2</td>\n",
       "      <td>5</td>\n",
       "      <td>2</td>\n",
       "      <td>1</td>\n",
       "      <td>1</td>\n",
       "      <td>2</td>\n",
       "      <td>1</td>\n",
       "      <td>1</td>\n",
       "      <td>3</td>\n",
       "      <td>5</td>\n",
       "      <td>4</td>\n",
       "      <td>5</td>\n",
       "      <td>4</td>\n",
       "      <td>1</td>\n",
       "      <td>0</td>\n",
       "      <td>0.0</td>\n",
       "      <td>neutral or dissatisfied</td>\n",
       "    </tr>\n",
       "    <tr>\n",
       "      <th>76496</th>\n",
       "      <td>Male</td>\n",
       "      <td>Loyal Customer</td>\n",
       "      <td>33</td>\n",
       "      <td>Business travel</td>\n",
       "      <td>Business</td>\n",
       "      <td>1990</td>\n",
       "      <td>5</td>\n",
       "      <td>5</td>\n",
       "      <td>5</td>\n",
       "      <td>5</td>\n",
       "      <td>4</td>\n",
       "      <td>4</td>\n",
       "      <td>4</td>\n",
       "      <td>4</td>\n",
       "      <td>4</td>\n",
       "      <td>1</td>\n",
       "      <td>5</td>\n",
       "      <td>5</td>\n",
       "      <td>1</td>\n",
       "      <td>4</td>\n",
       "      <td>0</td>\n",
       "      <td>0.0</td>\n",
       "      <td>satisfied</td>\n",
       "    </tr>\n",
       "  </tbody>\n",
       "</table>\n",
       "</div>"
      ],
      "text/plain": [
       "        gender   customer_type  age   type_of_travel     class  \\\n",
       "103044    Male  Loyal Customer   66  Personal Travel       Eco   \n",
       "43282   Female  Loyal Customer   38  Business travel  Business   \n",
       "65543   Female  Loyal Customer   38  Business travel       Eco   \n",
       "65083   Female  Loyal Customer   32  Personal Travel       Eco   \n",
       "76496     Male  Loyal Customer   33  Business travel  Business   \n",
       "\n",
       "        flight_distance  inflight_wifi_service  \\\n",
       "103044             1678                      3   \n",
       "43282               954                      2   \n",
       "65543               189                      2   \n",
       "65083               175                      2   \n",
       "76496              1990                      5   \n",
       "\n",
       "        departure/arrival_time_convenient  ease_of_online_booking  \\\n",
       "103044                                  2                       3   \n",
       "43282                                   2                       2   \n",
       "65543                                   1                       1   \n",
       "65083                                   5                       2   \n",
       "76496                                   5                       5   \n",
       "\n",
       "        gate_location  food_and_drink  online_boarding  seat_comfort  \\\n",
       "103044              2               4                3             4   \n",
       "43282               2               2                3             1   \n",
       "65543               1               2                2             2   \n",
       "65083               1               1                2             1   \n",
       "76496               5               4                4             4   \n",
       "\n",
       "        inflight_entertainment  on-board_service  leg_room_service  \\\n",
       "103044                       4                 4                 3   \n",
       "43282                        4                 4                 4   \n",
       "65543                        2                 1                 2   \n",
       "65083                        1                 3                 5   \n",
       "76496                        4                 4                 1   \n",
       "\n",
       "        baggage_handling  checkin_service  inflight_service  cleanliness  \\\n",
       "103044                 2                3                 2            4   \n",
       "43282                  4                2                 4            4   \n",
       "65543                  4                1                 4            2   \n",
       "65083                  4                5                 4            1   \n",
       "76496                  5                5                 1            4   \n",
       "\n",
       "        departure_delay_in_minutes  arrival_delay_in_minutes  \\\n",
       "103044                           0                       0.0   \n",
       "43282                            3                       0.0   \n",
       "65543                            0                       0.0   \n",
       "65083                            0                       0.0   \n",
       "76496                            0                       0.0   \n",
       "\n",
       "                   satisfaction  \n",
       "103044  neutral or dissatisfied  \n",
       "43282                 satisfied  \n",
       "65543   neutral or dissatisfied  \n",
       "65083   neutral or dissatisfied  \n",
       "76496                 satisfied  "
      ]
     },
     "execution_count": 101,
     "metadata": {},
     "output_type": "execute_result"
    }
   ],
   "source": [
    "# A small sample\n",
    "df_exploratory.sample(n = 5, random_state = 42)"
   ]
  },
  {
   "cell_type": "code",
   "execution_count": 102,
   "metadata": {},
   "outputs": [
    {
     "name": "stdout",
     "output_type": "stream",
     "text": [
      "129880.0 Bytes\n"
     ]
    }
   ],
   "source": [
    "# Memory usage\n",
    "print(df_exploratory.memory_usage()[2] / 8, 'Bytes')"
   ]
  },
  {
   "cell_type": "code",
   "execution_count": null,
   "metadata": {},
   "outputs": [],
   "source": [
    "# Some statistical numbers\n",
    "df_exploratory.describe(include = 'all').T"
   ]
  },
  {
   "cell_type": "code",
   "execution_count": null,
   "metadata": {},
   "outputs": [],
   "source": [
    "# Dimensions\n",
    "df_exploratory.ndim"
   ]
  },
  {
   "cell_type": "markdown",
   "metadata": {},
   "source": [
    "#### Age distribution"
   ]
  },
  {
   "cell_type": "code",
   "execution_count": 111,
   "metadata": {},
   "outputs": [
    {
     "name": "stderr",
     "output_type": "stream",
     "text": [
      "C:\\Users\\viniciushc\\Anaconda3\\lib\\site-packages\\seaborn\\distributions.py:2619: FutureWarning: `distplot` is a deprecated function and will be removed in a future version. Please adapt your code to use either `displot` (a figure-level function with similar flexibility) or `histplot` (an axes-level function for histograms).\n",
      "  warnings.warn(msg, FutureWarning)\n"
     ]
    },
    {
     "data": {
      "image/png": "[encoded data removed]",
      "text/plain": [
       "<Figure size 864x576 with 1 Axes>"
      ]
     },
     "metadata": {
      "needs_background": "light"
     },
     "output_type": "display_data"
    }
   ],
   "source": [
    "hist, ax = plt.subplots(figsize = (12, 8))\n",
    "\n",
    "ax = sns.distplot(df_exploratory['age'], kde = True, color = 'black', norm_hist = True)\n",
    "ax.set_title(\"Age Distribution\")\n",
    "plt.show()"
   ]
  },
  {
   "cell_type": "markdown",
   "metadata": {},
   "source": [
    "#### Q.2: What is the proportion of male and female for Loyal Customer?"
   ]
  },
  {
   "cell_type": "code",
   "execution_count": 57,
   "metadata": {},
   "outputs": [],
   "source": [
    "# Total of each gender\n",
    "n_male = df_exploratory[df_exploratory['gender'] == 'Male'].count()[0]\n",
    "n_female = df_exploratory[df_exploratory['gender'] == 'Female'].count()[0]\n",
    "\n",
    "# Total of each gender for Loyal Customer\n",
    "n_male_loyal = df_exploratory[(df_exploratory['gender'] == 'Male') & (df_exploratory['customer_type'] == 'Loyal Customer')].count()[0]\n",
    "n_female_loyal = df_exploratory[(df_exploratory['gender'] == 'Female') & (df_exploratory['customer_type'] == 'Loyal Customer')].count()[0]"
   ]
  },
  {
   "cell_type": "code",
   "execution_count": 73,
   "metadata": {},
   "outputs": [
    {
     "name": "stdout",
     "output_type": "stream",
     "text": [
      "Loyal customers proportion: \n",
      " MALE: 82.91% \n",
      " FEMALE: 80.51%\n"
     ]
    }
   ],
   "source": [
    "# Proportion of female that are loyal customers\n",
    "proportion_fem = n_female_loyal / n_female * 100\n",
    "\n",
    "# # Proportion of male that are loyal customers\n",
    "proportion_male = n_male_loyal / n_male * 100\n",
    "\n",
    "print(f'Loyal customers proportion: \\n MALE: {proportion_male:.2f}% \\n FEMALE: {proportion_fem:.2f}%')"
   ]
  },
  {
   "cell_type": "markdown",
   "metadata": {},
   "source": [
    "#### A.2: Loyal customers proportion: \n",
    "        MALE: 82.91%\n",
    "        FEMALE: 80.51%"
   ]
  },
  {
   "cell_type": "markdown",
   "metadata": {},
   "source": [
    "#### Q.3: From the proportion of Loyal Customers what is the proportion of male and female that flew in Business class?"
   ]
  },
  {
   "cell_type": "code",
   "execution_count": 74,
   "metadata": {},
   "outputs": [],
   "source": [
    "# Proportion of male that flew in the business class\n",
    "n_male_loyal_business = df_exploratory[(df_exploratory['gender'] == 'Male')\n",
    "                            & (df_exploratory['customer_type'] == 'Loyal Customer')\n",
    "                            & (df_exploratory['class'] == 'Business')].count()[0]\n",
    "\n",
    "# Proportion of female that flew in the business class\n",
    "n_female_loyal_business = df_exploratory[(df_exploratory['gender'] == 'Female')\n",
    "                            & (df_exploratory['customer_type'] == 'Loyal Customer')\n",
    "                            & (df_exploratory['class'] == 'Business')].count()[0]"
   ]
  },
  {
   "cell_type": "code",
   "execution_count": 80,
   "metadata": {},
   "outputs": [
    {
     "name": "stdout",
     "output_type": "stream",
     "text": [
      "Loyal customers that flew in the business class proportion: \n",
      " MALE: 49.84% \n",
      " FEMALE: 49.94%\n"
     ]
    }
   ],
   "source": [
    "# Proportion of female that flew in the business class\n",
    "proportion_fem_class = n_female_loyal_business / n_female_loyal * 100\n",
    "\n",
    "# Proportion of male that flew in the business class\n",
    "proportion_mal_class = n_male_loyal_business / n_male_loyal * 100\n",
    "\n",
    "print(f'Loyal customers that flew in the business class proportion: \\n MALE: {proportion_mal_class:.2f}% \\n FEMALE: {proportion_fem_class:.2f}%')"
   ]
  },
  {
   "cell_type": "markdown",
   "metadata": {},
   "source": [
    "#### A.3: Loyal customers that flew in the business class proportion: \n",
    "        MALE: 49.84% \n",
    "        FEMALE: 49.94%"
   ]
  },
  {
   "cell_type": "markdown",
   "metadata": {},
   "source": [
    "#### Q.4: What is the proportion of customers that evaluated the company with an overall under 30 points?"
   ]
  },
  {
   "cell_type": "code",
   "execution_count": 118,
   "metadata": {},
   "outputs": [
    {
     "name": "stdout",
     "output_type": "stream",
     "text": [
      "Only 15.05% of the passengers who rated the company below 30 points classified with \"satisfied\"\n"
     ]
    }
   ],
   "source": [
    "\n",
    "points_customer_satis = df_exploratory[['gender', 'customer_type', 'age', 'type_of_travel', 'class', 'satisfaction']][(df_exploratory.iloc[ : , 6 : -3].sum(axis = 1) <= 30) & (df_exploratory['satisfaction'] == 'satisfied')].count()[0]             \n",
    "points_customer_neut = df_exploratory[['gender', 'customer_type', 'age', 'type_of_travel', 'class', 'satisfaction']][(df_exploratory.iloc[ : , 6 : -3].sum(axis = 1) <= 30) & (df_exploratory['satisfaction'] == 'neutral or dissatisfied')].count()[0]\n",
    "\n",
    "print(f'Only {points_customer_satis / points_customer_neut *100:.2f}% of the passengers who rated the company below 30 points classified with \"satisfied\"')"
   ]
  },
  {
   "cell_type": "markdown",
   "metadata": {},
   "source": [
    "#### A.4: Only 15.05% of passengers who rated the company below 30 points classified it as \"satisfied\"\n"
   ]
  },
  {
   "cell_type": "code",
   "execution_count": 120,
   "metadata": {},
   "outputs": [
    {
     "data": {
      "text/html": [
       "<div>\n",
       "<style scoped>\n",
       "    .dataframe tbody tr th:only-of-type {\n",
       "        vertical-align: middle;\n",
       "    }\n",
       "\n",
       "    .dataframe tbody tr th {\n",
       "        vertical-align: top;\n",
       "    }\n",
       "\n",
       "    .dataframe thead th {\n",
       "        text-align: right;\n",
       "    }\n",
       "</style>\n",
       "<table border=\"1\" class=\"dataframe\">\n",
       "  <thead>\n",
       "    <tr style=\"text-align: right;\">\n",
       "      <th></th>\n",
       "      <th>gender</th>\n",
       "      <th>customer_type</th>\n",
       "      <th>age</th>\n",
       "      <th>type_of_travel</th>\n",
       "      <th>class</th>\n",
       "      <th>satisfaction</th>\n",
       "    </tr>\n",
       "  </thead>\n",
       "  <tbody>\n",
       "    <tr>\n",
       "      <th>20959</th>\n",
       "      <td>Male</td>\n",
       "      <td>Loyal Customer</td>\n",
       "      <td>32</td>\n",
       "      <td>Business travel</td>\n",
       "      <td>Eco</td>\n",
       "      <td>satisfied</td>\n",
       "    </tr>\n",
       "    <tr>\n",
       "      <th>89930</th>\n",
       "      <td>Female</td>\n",
       "      <td>Loyal Customer</td>\n",
       "      <td>22</td>\n",
       "      <td>Business travel</td>\n",
       "      <td>Business</td>\n",
       "      <td>satisfied</td>\n",
       "    </tr>\n",
       "  </tbody>\n",
       "</table>\n",
       "</div>"
      ],
      "text/plain": [
       "       gender   customer_type  age   type_of_travel     class satisfaction\n",
       "20959    Male  Loyal Customer   32  Business travel       Eco    satisfied\n",
       "89930  Female  Loyal Customer   22  Business travel  Business    satisfied"
      ]
     },
     "execution_count": 120,
     "metadata": {},
     "output_type": "execute_result"
    }
   ],
   "source": [
    "df_exploratory[['gender', 'customer_type', 'age', 'type_of_travel', 'class', 'satisfaction']] \\\n",
    "              [(df_exploratory.iloc[ : , 6 : -3]\n",
    "              .sum(axis = 1) <= 15) & (df_exploratory['satisfaction'])]"
   ]
  },
  {
   "cell_type": "markdown",
   "metadata": {},
   "source": [
    "#### Only two customers (loyal customers) that the overall points was less than 15 and yet classified with \"satisfied\""
   ]
  },
  {
   "cell_type": "code",
   "execution_count": 121,
   "metadata": {},
   "outputs": [
    {
     "data": {
      "text/plain": [
       "gender            5065\n",
       "customer_type     5065\n",
       "age               5065\n",
       "type_of_travel    5065\n",
       "class             5065\n",
       "satisfaction      5065\n",
       "dtype: int64"
      ]
     },
     "execution_count": 121,
     "metadata": {},
     "output_type": "execute_result"
    }
   ],
   "source": [
    "df_exploratory[['gender', 'customer_type', 'age', 'type_of_travel', 'class', 'satisfaction']] \\\n",
    "              [(df_exploratory.iloc[ : , 6 : -3]\n",
    "              .sum(axis = 1) < 30) & (df_exploratory['satisfaction'] == 'neutral or dissatisfied')].count()"
   ]
  },
  {
   "cell_type": "code",
   "execution_count": 137,
   "metadata": {},
   "outputs": [
    {
     "name": "stdout",
     "output_type": "stream",
     "text": [
      "From null values the proportion of customers that classified with \"satisfied\" is: \n",
      " 42.24%\n"
     ]
    }
   ],
   "source": [
    "null_satis = df_exploratory[(df_exploratory['arrival_delay_in_minutes'].isnull()) & (df_exploratory['satisfaction'] == 'satisfied')].count()[0]\n",
    "null_total = df_exploratory[df_exploratory['arrival_delay_in_minutes'].isnull()].count()[0]\n",
    "\n",
    "print(f'From null values the proportion of customers that classified with \"satisfied\" is: \\n {null_satis / null_total * 100:.2f}%')"
   ]
  },
  {
   "cell_type": "markdown",
   "metadata": {},
   "source": [
    "#### From null values the proportion of customers that classified with \"satisfied\" is: \n",
    "        42.24%"
   ]
  },
  {
   "cell_type": "code",
   "execution_count": null,
   "metadata": {},
   "outputs": [],
   "source": [
    "# Descriptive analysis\n",
    "df_exploratory.groupby(['age', 'customer_type', 'class'])['satisfaction'].value_counts()"
   ]
  },
  {
   "cell_type": "markdown",
   "metadata": {},
   "source": [
    "Disloyal customers with age 31, 34, 53, 73, 74, 75 and 78 has no \"satisfied\" classifications"
   ]
  },
  {
   "cell_type": "code",
   "execution_count": null,
   "metadata": {},
   "outputs": [],
   "source": [
    "df_exploratory['age'].value_counts(sort = True, ascending = False)"
   ]
  },
  {
   "cell_type": "code",
   "execution_count": null,
   "metadata": {},
   "outputs": [],
   "source": [
    "plt.figure(figsize=(15, 10))\n",
    "df_exploratory['age'].value_counts(normalize = True).plot(kind = 'bar')"
   ]
  },
  {
   "cell_type": "code",
   "execution_count": null,
   "metadata": {},
   "outputs": [],
   "source": [
    "plt.figure(figsize=(15, 10))\n",
    "sns.scatterplot(data = df_exploratory,\n",
    "                x = df_exploratory.age,\n",
    "                y = df_exploratory.age.value_counts(),\n",
    "                size = df_exploratory.age.value_counts(),\n",
    "                alpha = 0.5,\n",
    "                sizes=(20, 800),\n",
    "                hue = 'satisfaction',\n",
    "                )\n",
    "plt.ylabel('Persons')\n",
    "plt.show()"
   ]
  },
  {
   "cell_type": "code",
   "execution_count": null,
   "metadata": {},
   "outputs": [],
   "source": [
    "df_exploratory[(df_exploratory['age'] <= 18) & (df_exploratory['satisfaction'] == 'satisfied')].count()[0]"
   ]
  },
  {
   "cell_type": "code",
   "execution_count": null,
   "metadata": {},
   "outputs": [],
   "source": [
    "df_exploratory[(df_exploratory['age'] <= 18) & (df_exploratory['satisfaction'] != 'satisfied')].count()[0]"
   ]
  },
  {
   "cell_type": "code",
   "execution_count": null,
   "metadata": {},
   "outputs": [],
   "source": [
    "for atr in df_exploratory.columns:\n",
    "    if df_exploratory[atr].dtype == \"object\":\n",
    "        plt.figure(figsize=(10, 5))\n",
    "        df_exploratory[atr].hist(bins = 5, grid = False, )\n",
    "        plt.xlabel(atr)\n",
    "        plt.show()"
   ]
  },
  {
   "cell_type": "code",
   "execution_count": null,
   "metadata": {},
   "outputs": [],
   "source": [
    "plt.figure(figsize=(20, 10))\n",
    "sns.scatterplot(data = df_exploratory, x = 'class', y = 'age', hue = 'satisfaction')\n",
    "plt.legend()\n",
    "plt.show()"
   ]
  },
  {
   "cell_type": "code",
   "execution_count": null,
   "metadata": {},
   "outputs": [],
   "source": [
    "plt.figure(figsize=(20, 10))\n",
    "sns.scatterplot(data = df_exploratory,\n",
    "                x = 'departure_delay_in_minutes',\n",
    "                y = 'arrival_delay_in_minutes',\n",
    "                hue = 'satisfaction',\n",
    "                style = 'satisfaction')"
   ]
  },
  {
   "cell_type": "markdown",
   "metadata": {},
   "source": [
    "This research has a metric of 0 to 5 for each one of the 15 attributes. Wich means the maximum result for each passenger is 75 points"
   ]
  },
  {
   "cell_type": "code",
   "execution_count": null,
   "metadata": {},
   "outputs": [],
   "source": [
    "df_exploratory['max_points'] = df_exploratory.iloc[ : , 6 : -4].sum(axis = 1)\n",
    "print('Max = ', df_exploratory['max_points'].max(), '\\nMin = ', df_exploratory['max_points'].min())"
   ]
  },
  {
   "cell_type": "code",
   "execution_count": null,
   "metadata": {},
   "outputs": [],
   "source": [
    "df_exploratory[df_exploratory['max_points'] >= 70]"
   ]
  },
  {
   "cell_type": "code",
   "execution_count": null,
   "metadata": {},
   "outputs": [],
   "source": [
    "df_exploratory[df_exploratory['max_points'] <= 15]"
   ]
  },
  {
   "cell_type": "code",
   "execution_count": null,
   "metadata": {},
   "outputs": [],
   "source": [
    "df_exploratory.groupby(['gender', 'customer_type', 'class'])['satisfaction'].value_counts()"
   ]
  },
  {
   "cell_type": "code",
   "execution_count": null,
   "metadata": {},
   "outputs": [],
   "source": [
    "fig, ax = plt.subplots()\n",
    "\n",
    "X = df_exploratory[df_exploratory['customer_type'] == 'Loyal Customer'].count()\n",
    "y = df_exploratory[(df_exploratory['customer_type'] == 'Loyal Customer') &\n",
    "    (df_exploratory['satisfaction'] == 'satisfied')].count()\n",
    "\n",
    "customer = ax.bar('customer_type', X, label='Loyal Customer')\n",
    "satisfaction = ax.bar('satisfaction', y, label='satisfied')\n",
    "\n",
    "ax.bar_label(customer, label_type='edge')\n",
    "ax.bar_label(satisfaction, label_type='edge')\n",
    "\n",
    "plt.ylim(0, 150000)\n",
    "plt.legend()\n",
    "\n",
    "plt.show()\n"
   ]
  },
  {
   "cell_type": "code",
   "execution_count": null,
   "metadata": {},
   "outputs": [],
   "source": [
    "df_exploratory.describe()"
   ]
  },
  {
   "cell_type": "code",
   "execution_count": null,
   "metadata": {},
   "outputs": [],
   "source": [
    "df_concat.plot(kind = 'scatter', x = 'Age', y = 'Food and drink', s = 'Age')"
   ]
  },
  {
   "cell_type": "code",
   "execution_count": null,
   "metadata": {},
   "outputs": [],
   "source": [
    "df_concat.hist(bins=50, figsize=(20, 15));"
   ]
  },
  {
   "cell_type": "code",
   "execution_count": null,
   "metadata": {},
   "outputs": [],
   "source": [
    "sns.boxplot(data = df_concat, x = 'Age', y = 'Customer Type')"
   ]
  },
  {
   "cell_type": "code",
   "execution_count": null,
   "metadata": {},
   "outputs": [],
   "source": [
    "fig, ax = plt.subplots()\n",
    "ax.scatter(df_concat['Online boarding'], df_concat['Food and drink'], color='red')\n",
    "ax.scatter(df_concat['Food and drink'], df_concat['Online boarding'], color='blue')\n",
    "plt.show()"
   ]
  },
  {
   "cell_type": "code",
   "execution_count": null,
   "metadata": {},
   "outputs": [],
   "source": [
    "sns.boxplot(data = df_concat['Flight Distance'])"
   ]
  },
  {
   "cell_type": "code",
   "execution_count": null,
   "metadata": {},
   "outputs": [],
   "source": [
    "df_concat['Age'].hist()"
   ]
  }
 ],
 "metadata": {
  "interpreter": {
   "hash": "917ef3143bb6445bdc8a37fb77fd7ba7d5bc19e27e0464c3bc5f8551fec41c78"
  },
  "kernelspec": {
   "display_name": "Python 3.8.8 64-bit ('base': conda)",
   "language": "python",
   "name": "python3"
  },
  "language_info": {
   "codemirror_mode": {
    "name": "ipython",
    "version": 3
   },
   "file_extension": ".py",
   "mimetype": "text/x-python",
   "name": "python",
   "nbconvert_exporter": "python",
   "pygments_lexer": "ipython3",
   "version": "3.8.8"
  },
  "orig_nbformat": 4
 },
 "nbformat": 4,
 "nbformat_minor": 2
}
