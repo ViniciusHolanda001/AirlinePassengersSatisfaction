{
 "cells": [
  {
   "cell_type": "markdown",
   "metadata": {},
   "source": [
    "# Airline Passenger Satisfatcion Classification"
   ]
  },
  {
   "cell_type": "markdown",
   "metadata": {},
   "source": [
    "### This model tries to understand the services of an aviation company through a passenger satisfaction survey"
   ]
  },
  {
   "cell_type": "markdown",
   "metadata": {},
   "source": [
    "# Libraries"
   ]
  },
  {
   "cell_type": "code",
   "execution_count": null,
   "metadata": {},
   "outputs": [],
   "source": [
    "import pandas as pd\n",
    "import seaborn as sns\n",
    "import matplotlib.pyplot as plt\n",
    "import os\n",
    "from pathlib import Path\n",
    "import numpy as np"
   ]
  },
  {
   "cell_type": "markdown",
   "metadata": {},
   "source": [
    "# Pandas Set Options"
   ]
  },
  {
   "cell_type": "code",
   "execution_count": null,
   "metadata": {},
   "outputs": [],
   "source": [
    "pd.set_option('display.max_rows', None)\n",
    "pd.set_option('display.max_columns', None)"
   ]
  },
  {
   "cell_type": "markdown",
   "metadata": {},
   "source": [
    "# 1. Upload Datasets"
   ]
  },
  {
   "cell_type": "code",
   "execution_count": null,
   "metadata": {},
   "outputs": [],
   "source": [
    "df_test = pd.read_csv(os.path.join(Path(os.getcwd()).parents[0], 'data', 'test.csv'))\n",
    "df_train = pd.read_csv(os.path.join(Path(os.getcwd()).parents[0], 'data', 'train.csv'))"
   ]
  },
  {
   "cell_type": "code",
   "execution_count": null,
   "metadata": {},
   "outputs": [],
   "source": [
    "fig, ax = plt.subplots(figsize =(20, 10))\n",
    "\n",
    "test = ax.bar('test_rows', df_test.shape[0], label='Test')\n",
    "test_col = ax.bar('test_col', df_test.shape[1], label='Test_col')\n",
    "\n",
    "train = ax.bar('train_rows', df_train.shape[0], label='Train')\n",
    "train_col = ax.bar('train_col', df_train.shape[1], label='Train_col')\n",
    "\n",
    "ax.bar_label(test, label_type='edge')\n",
    "ax.bar_label(train, label_type='edge')\n",
    "\n",
    "ax.bar_label(test_col, label_type='edge')\n",
    "ax.bar_label(train_col, label_type='edge')\n",
    "plt.ylim(0, 150000)\n",
    "plt.legend()\n",
    "\n",
    "plt.show()"
   ]
  },
  {
   "cell_type": "markdown",
   "metadata": {},
   "source": [
    "## 1.1 Concatenating the Datasets"
   ]
  },
  {
   "cell_type": "code",
   "execution_count": null,
   "metadata": {},
   "outputs": [],
   "source": [
    "df_concat = pd.concat([df_train, df_test]).reset_index()"
   ]
  },
  {
   "cell_type": "code",
   "execution_count": null,
   "metadata": {},
   "outputs": [],
   "source": [
    "df_concat.shape"
   ]
  },
  {
   "cell_type": "markdown",
   "metadata": {},
   "source": [
    "## 1.2 Renaming columns"
   ]
  },
  {
   "cell_type": "code",
   "execution_count": null,
   "metadata": {},
   "outputs": [],
   "source": [
    "df_rename = df_concat.copy()"
   ]
  },
  {
   "cell_type": "code",
   "execution_count": null,
   "metadata": {},
   "outputs": [],
   "source": [
    "df_concat.info()"
   ]
  },
  {
   "cell_type": "code",
   "execution_count": null,
   "metadata": {},
   "outputs": [],
   "source": [
    "df_rename.columns"
   ]
  },
  {
   "cell_type": "code",
   "execution_count": null,
   "metadata": {},
   "outputs": [],
   "source": [
    "new_columns = [\n",
    "    new_name.replace(' ', '_').lower()\n",
    "    for new_name in df_rename.columns\n",
    "    ]"
   ]
  },
  {
   "cell_type": "code",
   "execution_count": null,
   "metadata": {},
   "outputs": [],
   "source": [
    "df_rename.columns = new_columns"
   ]
  },
  {
   "cell_type": "markdown",
   "metadata": {},
   "source": [
    "### 1.2.1 Initial data cleaning"
   ]
  },
  {
   "cell_type": "code",
   "execution_count": null,
   "metadata": {},
   "outputs": [],
   "source": [
    "len(df_rename['id'].unique())"
   ]
  },
  {
   "cell_type": "code",
   "execution_count": null,
   "metadata": {},
   "outputs": [],
   "source": [
    "drop_cols = ['index', 'unnamed:_0', 'id']\n",
    "df_rename.drop(drop_cols, axis = 1, inplace = True)"
   ]
  },
  {
   "cell_type": "markdown",
   "metadata": {},
   "source": [
    "#### A: There's no duplicate ids. So, there's no reason to maintain this attribute"
   ]
  },
  {
   "cell_type": "markdown",
   "metadata": {},
   "source": [
    "# 2. Data exploratory analysis"
   ]
  },
  {
   "cell_type": "code",
   "execution_count": null,
   "metadata": {},
   "outputs": [],
   "source": [
    "df_exploratory = df_rename.copy()"
   ]
  },
  {
   "cell_type": "markdown",
   "metadata": {},
   "source": [
    "#### Q.1: Is any null value?"
   ]
  },
  {
   "cell_type": "code",
   "execution_count": null,
   "metadata": {},
   "outputs": [],
   "source": [
    "df_exploratory.columns[df_exploratory.isnull().any()]"
   ]
  },
  {
   "cell_type": "code",
   "execution_count": null,
   "metadata": {},
   "outputs": [],
   "source": [
    "df_exploratory.isnull().sum()"
   ]
  },
  {
   "cell_type": "markdown",
   "metadata": {},
   "source": [
    "#### A.1: Only one attribute have 393 null objects. That represents 0.3% of the data."
   ]
  },
  {
   "cell_type": "code",
   "execution_count": null,
   "metadata": {},
   "outputs": [],
   "source": [
    "# Descriptive Data Analysis\n",
    "df_exploratory.info()"
   ]
  },
  {
   "cell_type": "code",
   "execution_count": null,
   "metadata": {},
   "outputs": [],
   "source": [
    "# Count of dtypes\n",
    "df_exploratory.dtypes.value_counts()"
   ]
  },
  {
   "cell_type": "code",
   "execution_count": null,
   "metadata": {},
   "outputs": [],
   "source": [
    "# A small sample\n",
    "df_exploratory.sample(n = 5, random_state = 42)"
   ]
  },
  {
   "cell_type": "code",
   "execution_count": null,
   "metadata": {},
   "outputs": [],
   "source": [
    "# Memory usage\n",
    "print(df_exploratory.memory_usage()[2] / 8, 'Bytes')"
   ]
  },
  {
   "cell_type": "code",
   "execution_count": null,
   "metadata": {},
   "outputs": [],
   "source": [
    "# Some statistical numbers\n",
    "df_exploratory.describe(include = 'all').T"
   ]
  },
  {
   "cell_type": "code",
   "execution_count": null,
   "metadata": {},
   "outputs": [],
   "source": [
    "# Dimensions\n",
    "df_exploratory.ndim"
   ]
  },
  {
   "cell_type": "markdown",
   "metadata": {},
   "source": [
    "#### Age distribution"
   ]
  },
  {
   "cell_type": "code",
   "execution_count": null,
   "metadata": {},
   "outputs": [],
   "source": [
    "hist, ax = plt.subplots(figsize = (12, 8))\n",
    "\n",
    "ax = sns.distplot(df_exploratory['age'], kde = True, color = 'black', norm_hist = True)\n",
    "ax.set_title(\"Age Distribution\")\n",
    "plt.show()"
   ]
  },
  {
   "cell_type": "markdown",
   "metadata": {},
   "source": [
    "#### Q.2: What is the proportion of male and female for Loyal Customer?"
   ]
  },
  {
   "cell_type": "code",
   "execution_count": null,
   "metadata": {},
   "outputs": [],
   "source": [
    "# Total of each gender\n",
    "n_male = df_exploratory[df_exploratory['gender'] == 'Male'].count()[0]\n",
    "n_female = df_exploratory[df_exploratory['gender'] == 'Female'].count()[0]\n",
    "\n",
    "# Total of each gender for Loyal Customer\n",
    "n_male_loyal = df_exploratory[(df_exploratory['gender'] == 'Male') & (df_exploratory['customer_type'] == 'Loyal Customer')].count()[0]\n",
    "n_female_loyal = df_exploratory[(df_exploratory['gender'] == 'Female') & (df_exploratory['customer_type'] == 'Loyal Customer')].count()[0]"
   ]
  },
  {
   "cell_type": "code",
   "execution_count": null,
   "metadata": {},
   "outputs": [],
   "source": [
    "# Proportion of female that are loyal customers\n",
    "proportion_fem = n_female_loyal / n_female * 100\n",
    "\n",
    "# # Proportion of male that are loyal customers\n",
    "proportion_male = n_male_loyal / n_male * 100\n",
    "\n",
    "print(f'Loyal customers proportion: \\n MALE: {proportion_male:.2f}% \\n FEMALE: {proportion_fem:.2f}%')"
   ]
  },
  {
   "cell_type": "markdown",
   "metadata": {},
   "source": [
    "#### A.2: Loyal customers proportion: \n",
    "        MALE: 82.91%\n",
    "        FEMALE: 80.51%"
   ]
  },
  {
   "cell_type": "markdown",
   "metadata": {},
   "source": [
    "#### Q.3: From the proportion of Loyal Customers what is the proportion of male and female that flew in Business class?"
   ]
  },
  {
   "cell_type": "code",
   "execution_count": null,
   "metadata": {},
   "outputs": [],
   "source": [
    "# Proportion of male that flew in the business class\n",
    "n_male_loyal_business = df_exploratory[(df_exploratory['gender'] == 'Male')\n",
    "                            & (df_exploratory['customer_type'] == 'Loyal Customer')\n",
    "                            & (df_exploratory['class'] == 'Business')].count()[0]\n",
    "\n",
    "# Proportion of female that flew in the business class\n",
    "n_female_loyal_business = df_exploratory[(df_exploratory['gender'] == 'Female')\n",
    "                            & (df_exploratory['customer_type'] == 'Loyal Customer')\n",
    "                            & (df_exploratory['class'] == 'Business')].count()[0]"
   ]
  },
  {
   "cell_type": "code",
   "execution_count": null,
   "metadata": {},
   "outputs": [],
   "source": [
    "# Proportion of female that flew in the business class\n",
    "proportion_fem_class = n_female_loyal_business / n_female_loyal * 100\n",
    "\n",
    "# Proportion of male that flew in the business class\n",
    "proportion_mal_class = n_male_loyal_business / n_male_loyal * 100\n",
    "\n",
    "print(f'Loyal customers that flew in the business class proportion: \\n MALE: {proportion_mal_class:.2f}% \\n FEMALE: {proportion_fem_class:.2f}%')"
   ]
  },
  {
   "cell_type": "markdown",
   "metadata": {},
   "source": [
    "#### A.3: Loyal customers that flew in the business class proportion: \n",
    "        MALE: 49.84% \n",
    "        FEMALE: 49.94%"
   ]
  },
  {
   "cell_type": "markdown",
   "metadata": {},
   "source": [
    "#### Q.4: What is the proportion of customers that evaluated the company with an overall under 30 points?"
   ]
  },
  {
   "cell_type": "code",
   "execution_count": null,
   "metadata": {},
   "outputs": [],
   "source": [
    "\n",
    "points_customer_satis = df_exploratory[['gender', 'customer_type', 'age', 'type_of_travel', 'class', 'satisfaction']][(df_exploratory.iloc[ : , 6 : -3].sum(axis = 1) <= 30) & (df_exploratory['satisfaction'] == 'satisfied')].count()[0]             \n",
    "points_customer_neut = df_exploratory[['gender', 'customer_type', 'age', 'type_of_travel', 'class', 'satisfaction']][(df_exploratory.iloc[ : , 6 : -3].sum(axis = 1) <= 30) & (df_exploratory['satisfaction'] == 'neutral or dissatisfied')].count()[0]\n",
    "\n",
    "print(f'Only {points_customer_satis / points_customer_neut *100:.2f}% of the passengers who rated the company below 30 points classified with \"satisfied\"')"
   ]
  },
  {
   "cell_type": "markdown",
   "metadata": {},
   "source": [
    "#### A.4: Only 15.05% of passengers who rated the company below 30 points classified it as \"satisfied\"\n"
   ]
  },
  {
   "cell_type": "code",
   "execution_count": null,
   "metadata": {},
   "outputs": [],
   "source": [
    "df_exploratory[['gender', 'customer_type', 'age', 'type_of_travel', 'class', 'satisfaction']] \\\n",
    "              [(df_exploratory.iloc[ : , 6 : -3]\n",
    "              .sum(axis = 1) <= 15) & (df_exploratory['satisfaction'])]"
   ]
  },
  {
   "cell_type": "markdown",
   "metadata": {},
   "source": [
    "#### Only two customers (loyal customers) that the overall points was less than 15 and yet classified with \"satisfied\""
   ]
  },
  {
   "cell_type": "code",
   "execution_count": null,
   "metadata": {},
   "outputs": [],
   "source": [
    "df_exploratory[['gender', 'customer_type', 'age', 'type_of_travel', 'class', 'satisfaction']] \\\n",
    "              [(df_exploratory.iloc[ : , 6 : -3]\n",
    "              .sum(axis = 1) < 30) & (df_exploratory['satisfaction'] == 'neutral or dissatisfied')].count()"
   ]
  },
  {
   "cell_type": "code",
   "execution_count": null,
   "metadata": {},
   "outputs": [],
   "source": [
    "null_satis = df_exploratory[(df_exploratory['arrival_delay_in_minutes'].isnull()) & (df_exploratory['satisfaction'] == 'satisfied')].count()[0]\n",
    "null_total = df_exploratory[df_exploratory['arrival_delay_in_minutes'].isnull()].count()[0]\n",
    "\n",
    "print(f'From null values the proportion of customers that classified with \"satisfied\" is: \\n {null_satis / null_total * 100:.2f}%')"
   ]
  },
  {
   "cell_type": "markdown",
   "metadata": {},
   "source": [
    "#### From null values the proportion of customers that classified with \"satisfied\" is: \n",
    "        42.24%"
   ]
  },
  {
   "cell_type": "code",
   "execution_count": null,
   "metadata": {},
   "outputs": [],
   "source": [
    "# Descriptive analysis\n",
    "df_exploratory.groupby(['age', 'customer_type', 'class'])['satisfaction'].value_counts()"
   ]
  },
  {
   "cell_type": "markdown",
   "metadata": {},
   "source": [
    "Disloyal customers with age 31, 34, 53, 73, 74, 75 and 78 has no \"satisfied\" classifications"
   ]
  },
  {
   "cell_type": "code",
   "execution_count": null,
   "metadata": {},
   "outputs": [],
   "source": [
    "df_exploratory['age'].value_counts(sort = True, ascending = False)"
   ]
  },
  {
   "cell_type": "code",
   "execution_count": null,
   "metadata": {},
   "outputs": [],
   "source": [
    "plt.figure(figsize=(15, 10))\n",
    "df_exploratory['age'].value_counts(normalize = True).plot(kind = 'bar')"
   ]
  },
  {
   "cell_type": "code",
   "execution_count": null,
   "metadata": {},
   "outputs": [],
   "source": [
    "plt.figure(figsize=(15, 10))\n",
    "sns.scatterplot(data = df_exploratory,\n",
    "                x = df_exploratory.age,\n",
    "                y = df_exploratory.age.value_counts(),\n",
    "                size = df_exploratory.age.value_counts(),\n",
    "                alpha = 0.5,\n",
    "                sizes=(20, 800),\n",
    "                hue = 'satisfaction',\n",
    "                )\n",
    "plt.ylabel('Persons')\n",
    "plt.show()"
   ]
  },
  {
   "cell_type": "code",
   "execution_count": null,
   "metadata": {},
   "outputs": [],
   "source": [
    "df_exploratory[(df_exploratory['age'] <= 18) & (df_exploratory['satisfaction'] == 'satisfied')].count()[0]"
   ]
  },
  {
   "cell_type": "code",
   "execution_count": null,
   "metadata": {},
   "outputs": [],
   "source": [
    "df_exploratory[(df_exploratory['age'] <= 18) & (df_exploratory['satisfaction'] != 'satisfied')].count()[0]"
   ]
  },
  {
   "cell_type": "code",
   "execution_count": null,
   "metadata": {},
   "outputs": [],
   "source": [
    "for atr in df_exploratory.columns:\n",
    "    if df_exploratory[atr].dtype == \"object\":\n",
    "        plt.figure(figsize=(10, 5))\n",
    "        df_exploratory[atr].hist(bins = 5, grid = False, )\n",
    "        plt.xlabel(atr)\n",
    "        plt.show()"
   ]
  },
  {
   "cell_type": "code",
   "execution_count": null,
   "metadata": {},
   "outputs": [],
   "source": [
    "plt.figure(figsize=(20, 10))\n",
    "sns.scatterplot(data = df_exploratory, x = 'class', y = 'age', hue = 'satisfaction')\n",
    "plt.legend()\n",
    "plt.show()"
   ]
  },
  {
   "cell_type": "code",
   "execution_count": null,
   "metadata": {},
   "outputs": [],
   "source": [
    "plt.figure(figsize=(20, 10))\n",
    "sns.scatterplot(data = df_exploratory,\n",
    "                x = 'departure_delay_in_minutes',\n",
    "                y = 'arrival_delay_in_minutes',\n",
    "                hue = 'satisfaction',\n",
    "                style = 'satisfaction')"
   ]
  },
  {
   "cell_type": "markdown",
   "metadata": {},
   "source": [
    "This research has a metric of 0 to 5 for each one of the 15 attributes. Wich means the maximum result for each passenger is 75 points"
   ]
  },
  {
   "cell_type": "code",
   "execution_count": null,
   "metadata": {},
   "outputs": [],
   "source": [
    "df_exploratory['max_points'] = df_exploratory.iloc[ : , 6 : -4].sum(axis = 1)\n",
    "print('Max = ', df_exploratory['max_points'].max(), '\\nMin = ', df_exploratory['max_points'].min())"
   ]
  },
  {
   "cell_type": "code",
   "execution_count": null,
   "metadata": {},
   "outputs": [],
   "source": [
    "df_exploratory[df_exploratory['max_points'] >= 70]"
   ]
  },
  {
   "cell_type": "code",
   "execution_count": null,
   "metadata": {},
   "outputs": [],
   "source": [
    "df_exploratory[df_exploratory['max_points'] <= 15]"
   ]
  },
  {
   "cell_type": "code",
   "execution_count": null,
   "metadata": {},
   "outputs": [],
   "source": [
    "df_exploratory.groupby(['gender', 'customer_type', 'class'])['satisfaction'].value_counts()"
   ]
  },
  {
   "cell_type": "code",
   "execution_count": null,
   "metadata": {},
   "outputs": [],
   "source": [
    "fig, ax = plt.subplots(figsize = (20, 10))\n",
    "\n",
    "X = df_exploratory[df_exploratory['customer_type'] == 'Loyal Customer'].count()\n",
    "y = df_exploratory[(df_exploratory['customer_type'] == 'Loyal Customer') &\n",
    "    (df_exploratory['satisfaction'] == 'satisfied')].count()\n",
    "\n",
    "customer = ax.bar('customer_type', X, label='Loyal Customer')\n",
    "satisfaction = ax.bar('satisfaction', y, label='satisfied')\n",
    "\n",
    "ax.bar_label(customer, label_type='edge')\n",
    "ax.bar_label(satisfaction, label_type='edge')\n",
    "\n",
    "plt.ylim(0, 150000)\n",
    "plt.legend()\n",
    "\n",
    "plt.show()\n"
   ]
  },
  {
   "cell_type": "code",
   "execution_count": null,
   "metadata": {},
   "outputs": [],
   "source": [
    "df_exploratory.describe()"
   ]
  },
  {
   "cell_type": "code",
   "execution_count": null,
   "metadata": {},
   "outputs": [],
   "source": [
    "df_concat.plot(kind = 'scatter', x = 'Age', y = 'Food and drink', s = 'Age')"
   ]
  },
  {
   "cell_type": "code",
   "execution_count": null,
   "metadata": {},
   "outputs": [],
   "source": [
    "df_concat.hist(bins=50, figsize=(20, 15))\n",
    "plt.show()"
   ]
  },
  {
   "cell_type": "code",
   "execution_count": null,
   "metadata": {},
   "outputs": [],
   "source": [
    "plt.figure(figsize=(20, 10))\n",
    "sns.boxplot(data = df_concat, x = 'Age', y = 'Customer Type')\n",
    "plt.show()"
   ]
  },
  {
   "cell_type": "code",
   "execution_count": null,
   "metadata": {},
   "outputs": [],
   "source": [
    "plt.figure(figsize=(20, 10))\n",
    "sns.boxplot(data = df_concat['Flight Distance'])\n",
    "plt.show()"
   ]
  },
  {
   "cell_type": "code",
   "execution_count": null,
   "metadata": {},
   "outputs": [],
   "source": [
    "plt.figure(figsize=(20, 10))\n",
    "df_concat['Age'].hist()\n",
    "plt.show()"
   ]
  },
  {
   "cell_type": "code",
   "execution_count": null,
   "metadata": {},
   "outputs": [],
   "source": [
    "plt.figure(figsize=(20, 10))\n",
    "sns.scatterplot(data=df_exploratory,  x='departure_delay_in_minutes', y='arrival_delay_in_minutes', hue='satisfaction', style='satisfaction')\n",
    "plt.show()"
   ]
  },
  {
   "cell_type": "code",
   "execution_count": null,
   "metadata": {},
   "outputs": [],
   "source": [
    "plt.figure(figsize=(20, 10))\n",
    "sns.heatmap(df_exploratory.corr(), annot=True, center = 0.01, robust = True, linecolor = 'black', alpha = 0.9)\n",
    "plt.show()"
   ]
  },
  {
   "cell_type": "markdown",
   "metadata": {},
   "source": [
    "# 3. Dropping some categorical attributes"
   ]
  },
  {
   "cell_type": "code",
   "execution_count": null,
   "metadata": {},
   "outputs": [],
   "source": [
    "df_drop = df_exploratory.copy()"
   ]
  },
  {
   "cell_type": "code",
   "execution_count": null,
   "metadata": {},
   "outputs": [],
   "source": [
    "df_drop.head()"
   ]
  },
  {
   "cell_type": "code",
   "execution_count": null,
   "metadata": {},
   "outputs": [],
   "source": [
    "df_drop.drop(columns = \n",
    "    [   \n",
    "        'gender',\n",
    "        'age',\n",
    "        'type_of_travel',\n",
    "        'flight_distance',\n",
    "        'departure_delay_in_minutes',\n",
    "        'arrival_delay_in_minutes',\n",
    "        'max_points'\n",
    "    ]\n",
    "    , inplace = True\n",
    ")"
   ]
  },
  {
   "cell_type": "code",
   "execution_count": 185,
   "metadata": {},
   "outputs": [
    {
     "data": {
      "text/plain": [
       "customer_type                                 Loyal Customer\n",
       "class                                               Business\n",
       "inflight_wifi_service                                      2\n",
       "departure/arrival_time_convenient                          5\n",
       "ease_of_online_booking                                     5\n",
       "gate_location                                              5\n",
       "food_and_drink                                             2\n",
       "online_boarding                                            2\n",
       "seat_comfort                                               2\n",
       "inflight_entertainment                                     2\n",
       "on-board_service                                           2\n",
       "leg_room_service                                           5\n",
       "baggage_handling                                           3\n",
       "checkin_service                                            1\n",
       "inflight_service                                           4\n",
       "cleanliness                                                2\n",
       "satisfaction                         neutral or dissatisfied\n",
       "Name: 3, dtype: object"
      ]
     },
     "execution_count": 185,
     "metadata": {},
     "output_type": "execute_result"
    }
   ],
   "source": [
    "df_drop.loc[3]"
   ]
  },
  {
   "cell_type": "markdown",
   "metadata": {},
   "source": [
    "# 4. Encoding Categorical Data"
   ]
  },
  {
   "cell_type": "code",
   "execution_count": 165,
   "metadata": {},
   "outputs": [],
   "source": [
    "df_encoder = df_drop.copy()"
   ]
  },
  {
   "cell_type": "code",
   "execution_count": 166,
   "metadata": {},
   "outputs": [],
   "source": [
    "from sklearn.preprocessing import LabelEncoder"
   ]
  },
  {
   "cell_type": "code",
   "execution_count": 167,
   "metadata": {},
   "outputs": [
    {
     "data": {
      "text/plain": [
       "Index(['customer_type', 'class', 'satisfaction'], dtype='object')"
      ]
     },
     "execution_count": 167,
     "metadata": {},
     "output_type": "execute_result"
    }
   ],
   "source": [
    "encoding_cols = df_encoder.select_dtypes(include='object').columns\n",
    "encoding_cols"
   ]
  },
  {
   "cell_type": "code",
   "execution_count": 168,
   "metadata": {},
   "outputs": [
    {
     "data": {
      "text/plain": [
       "array(['Eco_Plus', 'Business', 'Eco'], dtype=object)"
      ]
     },
     "execution_count": 168,
     "metadata": {},
     "output_type": "execute_result"
    }
   ],
   "source": [
    "df_encoder['class'] = df_encoder.iloc[:, 1].apply(lambda cl: cl.replace(' ', '_'))\n",
    "df_encoder.iloc[:, 1].unique()"
   ]
  },
  {
   "cell_type": "code",
   "execution_count": 169,
   "metadata": {},
   "outputs": [],
   "source": [
    "le = LabelEncoder()\n",
    "df_encoder['customer_type'] = le.fit_transform(df_encoder['customer_type'])\n",
    "df_encoder['satisfaction'] = le.fit_transform(df_encoder['satisfaction'])\n",
    "df_encoder['class'] = le.fit_transform(df_encoder['class'])"
   ]
  },
  {
   "cell_type": "markdown",
   "metadata": {},
   "source": [
    "#### CLASS >> 0 = Business; 1 = Eco; 2 = Eco_Plus\n",
    "#### CUSTOMER TYPE >> 0 = Loyal Customer; 1 = Disloyal Customer\n",
    "#### SATISFACTION >> 0 = Neutral or Dissatisfied; 1 = Satisfied"
   ]
  },
  {
   "cell_type": "code",
   "execution_count": 170,
   "metadata": {},
   "outputs": [
    {
     "data": {
      "text/html": [
       "<div>\n",
       "<style scoped>\n",
       "    .dataframe tbody tr th:only-of-type {\n",
       "        vertical-align: middle;\n",
       "    }\n",
       "\n",
       "    .dataframe tbody tr th {\n",
       "        vertical-align: top;\n",
       "    }\n",
       "\n",
       "    .dataframe thead th {\n",
       "        text-align: right;\n",
       "    }\n",
       "</style>\n",
       "<table border=\"1\" class=\"dataframe\">\n",
       "  <thead>\n",
       "    <tr style=\"text-align: right;\">\n",
       "      <th></th>\n",
       "      <th>customer_type</th>\n",
       "      <th>class</th>\n",
       "      <th>inflight_wifi_service</th>\n",
       "      <th>departure/arrival_time_convenient</th>\n",
       "      <th>ease_of_online_booking</th>\n",
       "      <th>gate_location</th>\n",
       "      <th>food_and_drink</th>\n",
       "      <th>online_boarding</th>\n",
       "      <th>seat_comfort</th>\n",
       "      <th>inflight_entertainment</th>\n",
       "      <th>on-board_service</th>\n",
       "      <th>leg_room_service</th>\n",
       "      <th>baggage_handling</th>\n",
       "      <th>checkin_service</th>\n",
       "      <th>inflight_service</th>\n",
       "      <th>cleanliness</th>\n",
       "      <th>satisfaction</th>\n",
       "    </tr>\n",
       "  </thead>\n",
       "  <tbody>\n",
       "    <tr>\n",
       "      <th>0</th>\n",
       "      <td>0</td>\n",
       "      <td>2</td>\n",
       "      <td>3</td>\n",
       "      <td>4</td>\n",
       "      <td>3</td>\n",
       "      <td>1</td>\n",
       "      <td>5</td>\n",
       "      <td>3</td>\n",
       "      <td>5</td>\n",
       "      <td>5</td>\n",
       "      <td>4</td>\n",
       "      <td>3</td>\n",
       "      <td>4</td>\n",
       "      <td>4</td>\n",
       "      <td>5</td>\n",
       "      <td>5</td>\n",
       "      <td>0</td>\n",
       "    </tr>\n",
       "    <tr>\n",
       "      <th>1</th>\n",
       "      <td>1</td>\n",
       "      <td>0</td>\n",
       "      <td>3</td>\n",
       "      <td>2</td>\n",
       "      <td>3</td>\n",
       "      <td>3</td>\n",
       "      <td>1</td>\n",
       "      <td>3</td>\n",
       "      <td>1</td>\n",
       "      <td>1</td>\n",
       "      <td>1</td>\n",
       "      <td>5</td>\n",
       "      <td>3</td>\n",
       "      <td>1</td>\n",
       "      <td>4</td>\n",
       "      <td>1</td>\n",
       "      <td>0</td>\n",
       "    </tr>\n",
       "    <tr>\n",
       "      <th>2</th>\n",
       "      <td>0</td>\n",
       "      <td>0</td>\n",
       "      <td>2</td>\n",
       "      <td>2</td>\n",
       "      <td>2</td>\n",
       "      <td>2</td>\n",
       "      <td>5</td>\n",
       "      <td>5</td>\n",
       "      <td>5</td>\n",
       "      <td>5</td>\n",
       "      <td>4</td>\n",
       "      <td>3</td>\n",
       "      <td>4</td>\n",
       "      <td>4</td>\n",
       "      <td>4</td>\n",
       "      <td>5</td>\n",
       "      <td>1</td>\n",
       "    </tr>\n",
       "    <tr>\n",
       "      <th>3</th>\n",
       "      <td>0</td>\n",
       "      <td>0</td>\n",
       "      <td>2</td>\n",
       "      <td>5</td>\n",
       "      <td>5</td>\n",
       "      <td>5</td>\n",
       "      <td>2</td>\n",
       "      <td>2</td>\n",
       "      <td>2</td>\n",
       "      <td>2</td>\n",
       "      <td>2</td>\n",
       "      <td>5</td>\n",
       "      <td>3</td>\n",
       "      <td>1</td>\n",
       "      <td>4</td>\n",
       "      <td>2</td>\n",
       "      <td>0</td>\n",
       "    </tr>\n",
       "    <tr>\n",
       "      <th>4</th>\n",
       "      <td>0</td>\n",
       "      <td>0</td>\n",
       "      <td>3</td>\n",
       "      <td>3</td>\n",
       "      <td>3</td>\n",
       "      <td>3</td>\n",
       "      <td>4</td>\n",
       "      <td>5</td>\n",
       "      <td>5</td>\n",
       "      <td>3</td>\n",
       "      <td>3</td>\n",
       "      <td>4</td>\n",
       "      <td>4</td>\n",
       "      <td>3</td>\n",
       "      <td>3</td>\n",
       "      <td>3</td>\n",
       "      <td>1</td>\n",
       "    </tr>\n",
       "  </tbody>\n",
       "</table>\n",
       "</div>"
      ],
      "text/plain": [
       "   customer_type  class  inflight_wifi_service  \\\n",
       "0              0      2                      3   \n",
       "1              1      0                      3   \n",
       "2              0      0                      2   \n",
       "3              0      0                      2   \n",
       "4              0      0                      3   \n",
       "\n",
       "   departure/arrival_time_convenient  ease_of_online_booking  gate_location  \\\n",
       "0                                  4                       3              1   \n",
       "1                                  2                       3              3   \n",
       "2                                  2                       2              2   \n",
       "3                                  5                       5              5   \n",
       "4                                  3                       3              3   \n",
       "\n",
       "   food_and_drink  online_boarding  seat_comfort  inflight_entertainment  \\\n",
       "0               5                3             5                       5   \n",
       "1               1                3             1                       1   \n",
       "2               5                5             5                       5   \n",
       "3               2                2             2                       2   \n",
       "4               4                5             5                       3   \n",
       "\n",
       "   on-board_service  leg_room_service  baggage_handling  checkin_service  \\\n",
       "0                 4                 3                 4                4   \n",
       "1                 1                 5                 3                1   \n",
       "2                 4                 3                 4                4   \n",
       "3                 2                 5                 3                1   \n",
       "4                 3                 4                 4                3   \n",
       "\n",
       "   inflight_service  cleanliness  satisfaction  \n",
       "0                 5            5             0  \n",
       "1                 4            1             0  \n",
       "2                 4            5             1  \n",
       "3                 4            2             0  \n",
       "4                 3            3             1  "
      ]
     },
     "execution_count": 170,
     "metadata": {},
     "output_type": "execute_result"
    }
   ],
   "source": [
    "df_encoder.head()"
   ]
  },
  {
   "cell_type": "code",
   "execution_count": null,
   "metadata": {},
   "outputs": [],
   "source": []
  },
  {
   "cell_type": "markdown",
   "metadata": {},
   "source": [
    "# 5. Train & Test Split"
   ]
  },
  {
   "cell_type": "code",
   "execution_count": 186,
   "metadata": {},
   "outputs": [],
   "source": [
    "from sklearn.model_selection import train_test_split"
   ]
  },
  {
   "cell_type": "code",
   "execution_count": 187,
   "metadata": {},
   "outputs": [],
   "source": [
    "df_split = df_encoder.copy()"
   ]
  },
  {
   "cell_type": "code",
   "execution_count": 188,
   "metadata": {},
   "outputs": [],
   "source": [
    "X = df_split.iloc[:, :-1].values\n",
    "y = df_split.iloc[:, -1].values\n",
    "X_train, X_test, y_train, y_test = train_test_split(X, y, test_size=0.20, random_state=42)"
   ]
  },
  {
   "cell_type": "markdown",
   "metadata": {},
   "source": [
    "# 6. Data Reduction"
   ]
  },
  {
   "cell_type": "code",
   "execution_count": 190,
   "metadata": {},
   "outputs": [],
   "source": [
    "from sklearn.model_selection import StratifiedShuffleSplit"
   ]
  },
  {
   "cell_type": "code",
   "execution_count": 191,
   "metadata": {},
   "outputs": [],
   "source": [
    "sss = StratifiedShuffleSplit(n_splits=1, train_size=0.05, random_state=0)\n",
    "sss.get_n_splits(X_train, y_train)\n",
    "\n",
    "X = X_train\n",
    "y = y_train\n",
    "\n",
    "for train_index, test_index in sss.split(X, y):\n",
    "    X_new_train = X[train_index]\n",
    "    y_new_train = y[train_index]"
   ]
  },
  {
   "cell_type": "code",
   "execution_count": 192,
   "metadata": {},
   "outputs": [
    {
     "data": {
      "text/plain": [
       "((5195, 16), (5195,))"
      ]
     },
     "execution_count": 192,
     "metadata": {},
     "output_type": "execute_result"
    }
   ],
   "source": [
    "X_new_train.shape, y_new_train.shape"
   ]
  },
  {
   "cell_type": "markdown",
   "metadata": {},
   "source": [
    "# 7. The model: MLP Classifier"
   ]
  },
  {
   "cell_type": "code",
   "execution_count": 193,
   "metadata": {},
   "outputs": [],
   "source": [
    "import pprint\n",
    "from sklearn.metrics import confusion_matrix, accuracy_score, classification_report, roc_curve\n",
    "from sklearn.pipeline import make_pipeline\n",
    "from sklearn.neural_network import MLPClassifier\n",
    "from sklearn.model_selection import GridSearchCV"
   ]
  },
  {
   "cell_type": "code",
   "execution_count": 194,
   "metadata": {},
   "outputs": [
    {
     "name": "stdout",
     "output_type": "stream",
     "text": [
      "Fitting 10 folds for each of 162 candidates, totalling 1620 fits\n"
     ]
    },
    {
     "name": "stderr",
     "output_type": "stream",
     "text": [
      "C:\\Users\\viniciushc\\Anaconda3\\lib\\site-packages\\sklearn\\neural_network\\_multilayer_perceptron.py:692: ConvergenceWarning: Stochastic Optimizer: Maximum iterations (200) reached and the optimization hasn't converged yet.\n",
      "  warnings.warn(\n"
     ]
    },
    {
     "data": {
      "text/plain": [
       "GridSearchCV(cv=10, estimator=MLPClassifier(), n_jobs=-1,\n",
       "             param_grid={'activation': ['logistic', 'relu', 'tanh'],\n",
       "                         'alpha': [0.0001, 0.001, 1e-05],\n",
       "                         'hidden_layer_sizes': [(10,), (10, 5)],\n",
       "                         'learning_rate': ['constant', 'invscaling',\n",
       "                                           'adaptive'],\n",
       "                         'learning_rate_init': [0.001, 0.0001, 1e-05]},\n",
       "             verbose=3)"
      ]
     },
     "execution_count": 194,
     "metadata": {},
     "output_type": "execute_result"
    }
   ],
   "source": [
    "parameters={\n",
    "    'learning_rate': [\"constant\", \"invscaling\", \"adaptive\"], \n",
    "    'hidden_layer_sizes': [(10,), (10, 5)],\n",
    "    'alpha': [0.0001, 0.001, 0.00001],\n",
    "    'activation': [\"logistic\", \"relu\", \"tanh\"],\n",
    "    'learning_rate_init': [0.001, 0.0001, 0.00001]    \n",
    "            }\n",
    "\n",
    "mlp = MLPClassifier()\n",
    "\n",
    "clf = GridSearchCV(estimator=mlp, param_grid=parameters, n_jobs=-1, verbose=3, cv=10)\n",
    "clf.fit(X_new_train, y_new_train)"
   ]
  },
  {
   "cell_type": "code",
   "execution_count": 195,
   "metadata": {},
   "outputs": [
    {
     "data": {
      "text/plain": [
       "{'activation': 'tanh',\n",
       " 'alpha': 0.001,\n",
       " 'hidden_layer_sizes': (10, 5),\n",
       " 'learning_rate': 'invscaling',\n",
       " 'learning_rate_init': 0.001}"
      ]
     },
     "execution_count": 195,
     "metadata": {},
     "output_type": "execute_result"
    }
   ],
   "source": [
    "clf.best_params_"
   ]
  },
  {
   "cell_type": "code",
   "execution_count": 196,
   "metadata": {},
   "outputs": [
    {
     "name": "stdout",
     "output_type": "stream",
     "text": [
      "Iteration 1, loss = 0.60329292\n",
      "Validation score: 0.824848\n",
      "Iteration 2, loss = 0.43262637\n",
      "Validation score: 0.842556\n",
      "Iteration 3, loss = 0.39449874\n",
      "Validation score: 0.849389\n",
      "Iteration 4, loss = 0.38412768\n",
      "Validation score: 0.851410\n",
      "Iteration 5, loss = 0.37834030\n",
      "Validation score: 0.853431\n",
      "Iteration 6, loss = 0.37270954\n",
      "Validation score: 0.854297\n",
      "Iteration 7, loss = 0.36817537\n",
      "Validation score: 0.856222\n",
      "Iteration 8, loss = 0.36315894\n",
      "Validation score: 0.856510\n",
      "Iteration 9, loss = 0.35567738\n",
      "Validation score: 0.862285\n",
      "Iteration 10, loss = 0.33879818\n",
      "Validation score: 0.868925\n",
      "Iteration 11, loss = 0.32269318\n",
      "Validation score: 0.875373\n",
      "Iteration 12, loss = 0.30606556\n",
      "Validation score: 0.881821\n",
      "Iteration 13, loss = 0.28915403\n",
      "Validation score: 0.888557\n",
      "Iteration 14, loss = 0.27351998\n",
      "Validation score: 0.889712\n",
      "Iteration 15, loss = 0.26129882\n",
      "Validation score: 0.894332\n",
      "Iteration 16, loss = 0.25101773\n",
      "Validation score: 0.892214\n",
      "Iteration 17, loss = 0.24245555\n",
      "Validation score: 0.897700\n",
      "Iteration 18, loss = 0.23509409\n",
      "Validation score: 0.900395\n",
      "Iteration 19, loss = 0.22856407\n",
      "Validation score: 0.903763\n",
      "Iteration 20, loss = 0.22317258\n",
      "Validation score: 0.903282\n",
      "Iteration 21, loss = 0.21793539\n",
      "Validation score: 0.900876\n",
      "Iteration 22, loss = 0.21404914\n",
      "Validation score: 0.906554\n",
      "Iteration 23, loss = 0.20984709\n",
      "Validation score: 0.908863\n",
      "Iteration 24, loss = 0.20659625\n",
      "Validation score: 0.911751\n",
      "Iteration 25, loss = 0.20348259\n",
      "Validation score: 0.913675\n",
      "Iteration 26, loss = 0.20072481\n",
      "Validation score: 0.912617\n",
      "Iteration 27, loss = 0.19831899\n",
      "Validation score: 0.915023\n",
      "Iteration 28, loss = 0.19628919\n",
      "Validation score: 0.916177\n",
      "Iteration 29, loss = 0.19427228\n",
      "Validation score: 0.913387\n",
      "Iteration 30, loss = 0.19254034\n",
      "Validation score: 0.916851\n",
      "Iteration 31, loss = 0.19103065\n",
      "Validation score: 0.915119\n",
      "Iteration 32, loss = 0.18918732\n",
      "Validation score: 0.914156\n",
      "Iteration 33, loss = 0.18771197\n",
      "Validation score: 0.918295\n",
      "Iteration 34, loss = 0.18611715\n",
      "Validation score: 0.915408\n",
      "Iteration 35, loss = 0.18476304\n",
      "Validation score: 0.916466\n",
      "Iteration 36, loss = 0.18346267\n",
      "Validation score: 0.920219\n",
      "Iteration 37, loss = 0.18243551\n",
      "Validation score: 0.919738\n",
      "Iteration 38, loss = 0.18162400\n",
      "Validation score: 0.921952\n",
      "Iteration 39, loss = 0.18032082\n",
      "Validation score: 0.922625\n",
      "Iteration 40, loss = 0.17909437\n",
      "Validation score: 0.920797\n",
      "Iteration 41, loss = 0.17847227\n",
      "Validation score: 0.921471\n",
      "Iteration 42, loss = 0.17734888\n",
      "Validation score: 0.924261\n",
      "Iteration 43, loss = 0.17669835\n",
      "Validation score: 0.923973\n",
      "Iteration 44, loss = 0.17598543\n",
      "Validation score: 0.923491\n",
      "Iteration 45, loss = 0.17524586\n",
      "Validation score: 0.922625\n",
      "Iteration 46, loss = 0.17453238\n",
      "Validation score: 0.922914\n",
      "Iteration 47, loss = 0.17397313\n",
      "Validation score: 0.926475\n",
      "Iteration 48, loss = 0.17327074\n",
      "Validation score: 0.926475\n",
      "Iteration 49, loss = 0.17320088\n",
      "Validation score: 0.925801\n",
      "Iteration 50, loss = 0.17222630\n",
      "Validation score: 0.925801\n",
      "Iteration 51, loss = 0.17180853\n",
      "Validation score: 0.927918\n",
      "Iteration 52, loss = 0.17107027\n",
      "Validation score: 0.926764\n",
      "Iteration 53, loss = 0.17107113\n",
      "Validation score: 0.925512\n",
      "Iteration 54, loss = 0.17078664\n",
      "Validation score: 0.928303\n",
      "Iteration 55, loss = 0.17018734\n",
      "Validation score: 0.928785\n",
      "Iteration 56, loss = 0.16949071\n",
      "Validation score: 0.927630\n",
      "Iteration 57, loss = 0.16903290\n",
      "Validation score: 0.929073\n",
      "Iteration 58, loss = 0.16892704\n",
      "Validation score: 0.929554\n",
      "Iteration 59, loss = 0.16848156\n",
      "Validation score: 0.930132\n",
      "Iteration 60, loss = 0.16767878\n",
      "Validation score: 0.929362\n",
      "Iteration 61, loss = 0.16796448\n",
      "Validation score: 0.929458\n",
      "Iteration 62, loss = 0.16760353\n",
      "Validation score: 0.929458\n",
      "Iteration 63, loss = 0.16697634\n",
      "Validation score: 0.925031\n",
      "Iteration 64, loss = 0.16678509\n",
      "Validation score: 0.930806\n",
      "Iteration 65, loss = 0.16686822\n",
      "Validation score: 0.926764\n",
      "Iteration 66, loss = 0.16636956\n",
      "Validation score: 0.930998\n",
      "Iteration 67, loss = 0.16590761\n",
      "Validation score: 0.929362\n",
      "Iteration 68, loss = 0.16553838\n",
      "Validation score: 0.927918\n",
      "Iteration 69, loss = 0.16545452\n",
      "Validation score: 0.929651\n",
      "Iteration 70, loss = 0.16557269\n",
      "Validation score: 0.930806\n",
      "Iteration 71, loss = 0.16481449\n",
      "Validation score: 0.929073\n",
      "Iteration 72, loss = 0.16456782\n",
      "Validation score: 0.930132\n",
      "Iteration 73, loss = 0.16460419\n",
      "Validation score: 0.932345\n",
      "Iteration 74, loss = 0.16425818\n",
      "Validation score: 0.929458\n",
      "Iteration 75, loss = 0.16377265\n",
      "Validation score: 0.930998\n",
      "Iteration 76, loss = 0.16396324\n",
      "Validation score: 0.932153\n",
      "Iteration 77, loss = 0.16365203\n",
      "Validation score: 0.929362\n",
      "Iteration 78, loss = 0.16325756\n",
      "Validation score: 0.931864\n",
      "Iteration 79, loss = 0.16331450\n",
      "Validation score: 0.931383\n",
      "Iteration 80, loss = 0.16268419\n",
      "Validation score: 0.931864\n",
      "Iteration 81, loss = 0.16245908\n",
      "Validation score: 0.933115\n",
      "Iteration 82, loss = 0.16292290\n",
      "Validation score: 0.930709\n",
      "Iteration 83, loss = 0.16245310\n",
      "Validation score: 0.930709\n",
      "Iteration 84, loss = 0.16209652\n",
      "Validation score: 0.932153\n",
      "Iteration 85, loss = 0.16219979\n",
      "Validation score: 0.932730\n",
      "Iteration 86, loss = 0.16188095\n",
      "Validation score: 0.932634\n",
      "Iteration 87, loss = 0.16161278\n",
      "Validation score: 0.932538\n",
      "Iteration 88, loss = 0.16141131\n",
      "Validation score: 0.932634\n",
      "Iteration 89, loss = 0.16112455\n",
      "Validation score: 0.933019\n",
      "Iteration 90, loss = 0.16132464\n",
      "Validation score: 0.932249\n",
      "Iteration 91, loss = 0.16091118\n",
      "Validation score: 0.931672\n",
      "Iteration 92, loss = 0.16078692\n",
      "Validation score: 0.933211\n",
      "Validation score did not improve more than tol=0.000100 for 10 consecutive epochs. Stopping.\n"
     ]
    },
    {
     "data": {
      "text/plain": [
       "MLPClassifier(activation='logistic', alpha=0.001, early_stopping=True,\n",
       "              hidden_layer_sizes=(10, 5), learning_rate='adaptive',\n",
       "              max_iter=10000, verbose=3)"
      ]
     },
     "execution_count": 196,
     "metadata": {},
     "output_type": "execute_result"
    }
   ],
   "source": [
    "mlp = MLPClassifier(activation='logistic', alpha=0.001, hidden_layer_sizes=(10, 5), learning_rate='adaptive', max_iter = 10000, verbose = 3, early_stopping = True)\n",
    "mlp.fit(X_train, y_train)"
   ]
  },
  {
   "cell_type": "code",
   "execution_count": 197,
   "metadata": {},
   "outputs": [
    {
     "data": {
      "text/plain": [
       "array([0, 1, 0, ..., 1, 1, 0])"
      ]
     },
     "execution_count": 197,
     "metadata": {},
     "output_type": "execute_result"
    }
   ],
   "source": [
    "pred_mlp = mlp.predict(X_test)\n",
    "pred_mlp"
   ]
  },
  {
   "cell_type": "code",
   "execution_count": 198,
   "metadata": {},
   "outputs": [
    {
     "data": {
      "text/plain": [
       "(array([[13912,   710],\n",
       "        [ 1037, 10317]], dtype=int64),\n",
       " 0.9327456113335386)"
      ]
     },
     "execution_count": 198,
     "metadata": {},
     "output_type": "execute_result"
    }
   ],
   "source": [
    "conf_matrix = confusion_matrix(y_test, pred_mlp)\n",
    "acc_score = accuracy_score(y_test, pred_mlp)\n",
    "conf_matrix, acc_score"
   ]
  },
  {
   "cell_type": "code",
   "execution_count": 199,
   "metadata": {},
   "outputs": [
    {
     "name": "stdout",
     "output_type": "stream",
     "text": [
      "('              precision    recall  f1-score   support\\n'\n",
      " '\\n'\n",
      " '           0       0.93      0.95      0.94     14622\\n'\n",
      " '           1       0.94      0.91      0.92     11354\\n'\n",
      " '\\n'\n",
      " '    accuracy                           0.93     25976\\n'\n",
      " '   macro avg       0.93      0.93      0.93     25976\\n'\n",
      " 'weighted avg       0.93      0.93      0.93     25976\\n')\n"
     ]
    }
   ],
   "source": [
    "class_repo = classification_report(y_test, pred_mlp)\n",
    "pprint.pprint(class_repo)"
   ]
  },
  {
   "cell_type": "code",
   "execution_count": 200,
   "metadata": {},
   "outputs": [],
   "source": [
    "prob = mlp.predict_proba(X_test)\n",
    "prob = prob[:, 1]\n",
    "fper, tper, thresholds = roc_curve(y_test, prob)"
   ]
  },
  {
   "cell_type": "code",
   "execution_count": 202,
   "metadata": {},
   "outputs": [
    {
     "data": {
      "image/png": "[encoded data removed]",
      "text/plain": [
       "<Figure size 1440x720 with 1 Axes>"
      ]
     },
     "metadata": {
      "needs_background": "light"
     },
     "output_type": "display_data"
    }
   ],
   "source": [
    "plt.figure(figsize=(20, 10))\n",
    "plt.plot(fper, tper, color='red', label='ROC')\n",
    "plt.plot([0, 1], [0, 1], color='green', linestyle='--')\n",
    "plt.show()"
   ]
  },
  {
   "cell_type": "code",
   "execution_count": null,
   "metadata": {},
   "outputs": [],
   "source": []
  }
 ],
 "metadata": {
  "interpreter": {
   "hash": "917ef3143bb6445bdc8a37fb77fd7ba7d5bc19e27e0464c3bc5f8551fec41c78"
  },
  "kernelspec": {
   "display_name": "Python 3.8.8 64-bit ('base': conda)",
   "language": "python",
   "name": "python3"
  },
  "language_info": {
   "codemirror_mode": {
    "name": "ipython",
    "version": 3
   },
   "file_extension": ".py",
   "mimetype": "text/x-python",
   "name": "python",
   "nbconvert_exporter": "python",
   "pygments_lexer": "ipython3",
   "version": "3.8.8"
  },
  "orig_nbformat": 4
 },
 "nbformat": 4,
 "nbformat_minor": 2
}
